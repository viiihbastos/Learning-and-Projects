{
  "nbformat": 4,
  "nbformat_minor": 0,
  "metadata": {
    "colab": {
      "provenance": [],
      "toc_visible": true,
      "authorship_tag": "ABX9TyMEcxEGAXpJcL6C7fxN1372",
      "include_colab_link": true
    },
    "kernelspec": {
      "name": "python3",
      "display_name": "Python 3"
    },
    "language_info": {
      "name": "python"
    }
  },
  "cells": [
    {
      "cell_type": "markdown",
      "metadata": {
        "id": "view-in-github",
        "colab_type": "text"
      },
      "source": [
        "<a href=\"https://colab.research.google.com/github/viiihbastos/Learning-and-Projects/blob/main/IBM_Watson_Speech_to_Text_.ipynb\" target=\"_parent\"><img src=\"https://colab.research.google.com/assets/colab-badge.svg\" alt=\"Open In Colab\"/></a>"
      ]
    },
    {
      "cell_type": "code",
      "source": [
        "!pip install ibm-watson"
      ],
      "metadata": {
        "colab": {
          "base_uri": "https://localhost:8080/"
        },
        "id": "9-JeYm9nPWr4",
        "outputId": "346dac91-9d2b-4153-96b3-90876903fdad"
      },
      "execution_count": 16,
      "outputs": [
        {
          "output_type": "stream",
          "name": "stdout",
          "text": [
            "Looking in indexes: https://pypi.org/simple, https://us-python.pkg.dev/colab-wheels/public/simple/\n",
            "Requirement already satisfied: ibm-watson in /usr/local/lib/python3.9/dist-packages (7.0.0)\n",
            "Requirement already satisfied: ibm-cloud-sdk-core==3.*,>=3.3.6 in /usr/local/lib/python3.9/dist-packages (from ibm-watson) (3.16.5)\n",
            "Requirement already satisfied: python-dateutil>=2.5.3 in /usr/local/lib/python3.9/dist-packages (from ibm-watson) (2.8.2)\n",
            "Requirement already satisfied: websocket-client==1.1.0 in /usr/local/lib/python3.9/dist-packages (from ibm-watson) (1.1.0)\n",
            "Requirement already satisfied: requests<3.0,>=2.0 in /usr/local/lib/python3.9/dist-packages (from ibm-watson) (2.28.2)\n",
            "Requirement already satisfied: urllib3<2.0.0,>=1.26.0 in /usr/local/lib/python3.9/dist-packages (from ibm-cloud-sdk-core==3.*,>=3.3.6->ibm-watson) (1.26.15)\n",
            "Requirement already satisfied: PyJWT<3.0.0,>=2.4.0 in /usr/local/lib/python3.9/dist-packages (from ibm-cloud-sdk-core==3.*,>=3.3.6->ibm-watson) (2.6.0)\n",
            "Requirement already satisfied: six>=1.5 in /usr/local/lib/python3.9/dist-packages (from python-dateutil>=2.5.3->ibm-watson) (1.16.0)\n",
            "Requirement already satisfied: idna<4,>=2.5 in /usr/local/lib/python3.9/dist-packages (from requests<3.0,>=2.0->ibm-watson) (3.4)\n",
            "Requirement already satisfied: certifi>=2017.4.17 in /usr/local/lib/python3.9/dist-packages (from requests<3.0,>=2.0->ibm-watson) (2022.12.7)\n",
            "Requirement already satisfied: charset-normalizer<4,>=2 in /usr/local/lib/python3.9/dist-packages (from requests<3.0,>=2.0->ibm-watson) (2.0.12)\n"
          ]
        }
      ]
    },
    {
      "cell_type": "code",
      "source": [
        "from ibm_watson import SpeechToTextV1\n",
        "from ibm_cloud_sdk_core.authenticators import IAMAuthenticator"
      ],
      "metadata": {
        "id": "DiHioMpcPoLy"
      },
      "execution_count": 17,
      "outputs": []
    },
    {
      "cell_type": "code",
      "source": [
        "apikey = \"O_mpTTCXzyTeHLgl9ogulqqGokz0vLRCzNeJKokghkaV\""
      ],
      "metadata": {
        "id": "2SQezhGWRj-s"
      },
      "execution_count": 18,
      "outputs": []
    },
    {
      "cell_type": "code",
      "source": [
        "url = \"https://api.us-south.speech-to-text.watson.cloud.ibm.com/instances/50a12a2e-4d2d-475c-8739-0d42948f7b62\""
      ],
      "metadata": {
        "id": "EvX2X9LhRusF"
      },
      "execution_count": 19,
      "outputs": []
    },
    {
      "cell_type": "code",
      "source": [
        "# Inicialize o serviço do Watson Speech to Text\n",
        "authenticator = IAMAuthenticator(apikey)\n",
        "speech_to_text = SpeechToTextV1(authenticator=authenticator)\n",
        "speech_to_text.set_service_url(url)"
      ],
      "metadata": {
        "id": "OnWoUCPIR0Fp"
      },
      "execution_count": 20,
      "outputs": []
    },
    {
      "cell_type": "code",
      "source": [
        "# Carregue o arquivo de áudio (certifique-se de que o arquivo esteja carregado no Colab)\n",
        "path = \"/content/Gravação.mp3\""
      ],
      "metadata": {
        "id": "JQWBRHn9TKHK"
      },
      "execution_count": 21,
      "outputs": []
    },
    {
      "cell_type": "code",
      "source": [
        "# Transcreva o áudio usando o IBM Watson Speech to Text\n",
        "with open(path, 'rb') as audio_file:\n",
        "    result = speech_to_text.recognize(\n",
        "        audio=audio_file,\n",
        "        content_type='audio/mp3',\n",
        "        model='pt-BR_BroadbandModel',\n",
        "        max_alternatives=1\n",
        "    ).get_result()"
      ],
      "metadata": {
        "id": "om30JEzMTUFv"
      },
      "execution_count": 22,
      "outputs": []
    },
    {
      "cell_type": "code",
      "source": [
        "# Exiba a transcrição do áudio\n",
        "transcript = result['results'][0]['alternatives'][0]['transcript']\n",
        "print(\"Transcrição do áudio:\")\n",
        "print(transcript)"
      ],
      "metadata": {
        "colab": {
          "base_uri": "https://localhost:8080/"
        },
        "id": "_JVKz2V6T-9W",
        "outputId": "6efd8414-3168-4e0f-d478-f28a21138d76"
      },
      "execution_count": 23,
      "outputs": [
        {
          "output_type": "stream",
          "name": "stdout",
          "text": [
            "Transcrição do áudio:\n",
            "uma raposa que estava com fome e vi um delicioso cacho de uvas pendurado numa parreira decidida fez vários esforços para alcançar ala mais não conseguiu cumprir a missão foi aí que ele com um ar de desdém resolveu ir embora afirmando estar ver indícios moral muitas vezes quando não conseguimos cumprir o objetivo temos a tendência a culpar os outros \n"
          ]
        }
      ]
    }
  ]
}